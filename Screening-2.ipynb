{
 "cells": [
  {
   "cell_type": "raw",
   "id": "29ca87d8",
   "metadata": {},
   "source": [
    "Abstract Class:\n",
    "    Any method within class which has only declaration & no definition is called abstract method. And any class having atleast one abstratc method is termed as Abstract Class.\n",
    "    \n",
    "Here, we've designed a scenario where people choose to make payment via Card/Cash. \n",
    "Collecting details of customer like name, address (in our case) are common , hence we create concrete methods for gathering info\n",
    "And the mode by which customers make payment has been defined as Abstract Method and will be determined by Sub-Classes"
   ]
  },
  {
   "cell_type": "code",
   "execution_count": 11,
   "id": "e31e9b86",
   "metadata": {},
   "outputs": [],
   "source": [
    "from abc import ABC, abstractmethod"
   ]
  },
  {
   "cell_type": "code",
   "execution_count": 12,
   "id": "2f9e694b",
   "metadata": {},
   "outputs": [],
   "source": [
    "class Payment(ABC):\n",
    "    def __init__(self, name, address):\n",
    "        self.name = name\n",
    "        self.address = address\n",
    "\n",
    "    #print_customer_info is a concrete method\n",
    "    def print_customer_info(self):\n",
    "        print('Customer Name:', self.name)\n",
    "        print('Customer Address:', self.address)\n",
    "\n",
    "    #defining abstract class using decorator\n",
    "    @abstractmethod\n",
    "    def do_payment(self, amount):\n",
    "        pass\n"
   ]
  },
  {
   "cell_type": "code",
   "execution_count": 16,
   "id": "39fde3d5",
   "metadata": {},
   "outputs": [],
   "source": [
    "#First Sub-Class to determine payment made via Cards\n",
    "class CardPayment(Payment):\n",
    "    def __init__(self, name, address):\n",
    "        super().__init__(name, address)\n",
    "\n",
    "    def do_payment(self, amount):\n",
    "        print('In child class CardPayment')\n",
    "        print('payment of', amount, 'done via Card')\n",
    "        super().print_customer_info()"
   ]
  },
  {
   "cell_type": "code",
   "execution_count": 17,
   "id": "acea6bc9",
   "metadata": {},
   "outputs": [],
   "source": [
    "#First Sub-Class to determine payment made via Cash\n",
    "class CashPayment(Payment):\n",
    "    def __init__(self, name, address):\n",
    "        super().__init__(name, address)\n",
    "\n",
    "    def do_payment(self, amount):\n",
    "        print('In child class CashPayment')\n",
    "        print('payment of', amount, 'done via Cash')\n",
    "        super().print_customer_info()"
   ]
  },
  {
   "cell_type": "code",
   "execution_count": 18,
   "id": "2f61e179",
   "metadata": {},
   "outputs": [
    {
     "name": "stdout",
     "output_type": "stream",
     "text": [
      "In child class CardPayment\n",
      "payment of 34.56 done via Card\n",
      "Customer Name: Stacy\n",
      "Customer Address: 5th ave, NYC\n",
      "In child class CashPayment\n",
      "payment of 12.23 done via Cash\n",
      "Customer Name: Amber\n",
      "Customer Address: Burnsville, NC\n"
     ]
    }
   ],
   "source": [
    "#Obj of Child Classes\n",
    "obj = CardPayment(\"Stacy\", \"5th ave, NYC\")\n",
    "obj.do_payment(34.56)\n",
    "\n",
    "obj = CashPayment(\"Amber\", \"Burnsville, NC\")\n",
    "obj.do_payment(12.23)"
   ]
  },
  {
   "cell_type": "code",
   "execution_count": null,
   "id": "f9e6121b",
   "metadata": {},
   "outputs": [],
   "source": []
  },
  {
   "cell_type": "raw",
   "id": "7fd8c0ff",
   "metadata": {},
   "source": [
    "Decorators:\n",
    "    Python decorators are a piece of code that allow us to change the behavior of a function or modify the function without actually modifying the function itself. That is Can be used when we need to run same code on multiple functions.\n",
    "    "
   ]
  },
  {
   "cell_type": "code",
   "execution_count": 22,
   "id": "bc32fd0f",
   "metadata": {},
   "outputs": [],
   "source": [
    "#Func main_func returns sub_func invoking the sub-function to be executed. cours_name is a function passed as a parameter\n",
    "\n",
    "def main_func(fun):\n",
    "    \n",
    "    def sub_func():\n",
    "        print(\"I'm a student of iNeuron\")\n",
    "        fun()\n",
    "        print(\"Here to Learn Data Science\")\n",
    "    return sub_func()"
   ]
  },
  {
   "cell_type": "code",
   "execution_count": 25,
   "id": "6e1d7445",
   "metadata": {},
   "outputs": [
    {
     "name": "stdout",
     "output_type": "stream",
     "text": [
      "I'm a student of iNeuron\n",
      "This is FSDS Nov21 Batch\n",
      "Here to Learn Data Science\n"
     ]
    }
   ],
   "source": [
    "#here main_func is our decorator class which is using cours_name as a parameter in that specific function\n",
    "\n",
    "@main_func\n",
    "def cours_name():\n",
    "    print(\"This is FSDS Nov21 Batch\")\n",
    "    \n",
    "#a = main_func(cours_name)"
   ]
  },
  {
   "cell_type": "code",
   "execution_count": null,
   "id": "f5dcc121",
   "metadata": {},
   "outputs": [],
   "source": []
  },
  {
   "cell_type": "raw",
   "id": "5f303aba",
   "metadata": {},
   "source": [
    "Multiple Inheritance:\n",
    "    Inheritance is a scenario where in a class can inherit all the methods and properties from another class. \n",
    "    Multiple Inheritance is where a class is derviced from more than  base classes. Base classes are referred as Parent Class and the derived class is termed as CHild Class."
   ]
  },
  {
   "cell_type": "code",
   "execution_count": 36,
   "id": "0542df61",
   "metadata": {},
   "outputs": [
    {
     "name": "stdout",
     "output_type": "stream",
     "text": [
      "Personal Info of the student is:\n",
      "Name : Amber\n",
      "Gender : Female\n",
      "Age : 24\n",
      "Educational Info of the student is:\n",
      "Course : Bachelor of Engineering\n",
      "Stream : Electronics & Communication\n",
      "Graduating Year : 2019\n"
     ]
    }
   ],
   "source": [
    "#Parent Class1\n",
    "class personal:\n",
    "    def __init1__(self):\n",
    "        self.name = \"Amber\"\n",
    "        self.gender = \"Female\"\n",
    "        self.age = \"24\"\n",
    "        print(\"Name :\",self.name)\n",
    "        print(\"Gender :\",self.gender)\n",
    "        print(\"Age :\",self.age)\n",
    "\n",
    "#Parent Class2\n",
    "class educational:\n",
    "    def __init2__(self):\n",
    "        self.course = \"Bachelor of Engineering\"\n",
    "        self.stream = \"Electronics & Communication\"\n",
    "        self.year = \"2019\"\n",
    "        print(\"Course :\",self.course)\n",
    "        print(\"Stream :\",self.stream)\n",
    "        print(\"Graduating Year :\",self.year)\n",
    "\n",
    "#Child Class\n",
    "class student(personal,educational):\n",
    "    pass\n",
    "        \n",
    "\n",
    "obj = student()\n",
    "print(\"Personal Info of the student is:\")\n",
    "obj.__init1__()\n",
    "print(\"Educational Info of the student is:\")\n",
    "obj.__init2__()\n"
   ]
  }
 ],
 "metadata": {
  "kernelspec": {
   "display_name": "Python 3 (ipykernel)",
   "language": "python",
   "name": "python3"
  },
  "language_info": {
   "codemirror_mode": {
    "name": "ipython",
    "version": 3
   },
   "file_extension": ".py",
   "mimetype": "text/x-python",
   "name": "python",
   "nbconvert_exporter": "python",
   "pygments_lexer": "ipython3",
   "version": "3.9.12"
  }
 },
 "nbformat": 4,
 "nbformat_minor": 5
}
